{
 "cells": [
  {
   "cell_type": "code",
   "execution_count": 1,
   "metadata": {
    "collapsed": true
   },
   "outputs": [],
   "source": [
    "%load_ext Cython"
   ]
  },
  {
   "cell_type": "code",
   "execution_count": 9,
   "metadata": {
    "collapsed": false
   },
   "outputs": [],
   "source": [
    "%%cython\n",
    "\n",
    "import numpy as np\n",
    "cimport numpy as np\n",
    "cimport cython\n",
    "from libc.math cimport exp\n",
    "from libc.stdlib cimport rand, srand, RAND_MAX\n",
    "from guthrie_modelc import *\n",
    "\n",
    "cdef double[:] source\n",
    "cdef double[:] target\n",
    "cdef double[:,:] weights\n",
    "cdef long[:,:] effcons\n",
    "cdef long i,j\n",
    "\n",
    "cdef double[:] con\n",
    "cdef long[:] act\n",
    "effc = []\n",
    "S = np.random.uniform(0,1,256)\n",
    "Wmin = 0.25\n",
    "Wmax = 0.75\n",
    "weights = AscToAscWeights((256,256),(16,16))\n",
    "ws = AscToAscWeights((16,16),(16,16))\n",
    "\n",
    "#N = np.random.normal(0.5, 0.005, weights.shape)\n",
    "#N = np.minimum(np.maximum(N, 0.0),1.0)\n",
    "#weights = np.multiply((Wmin + (Wmax - Wmin)*N), weights)\n",
    "\n",
    "source = S\n",
    "target = np.empty(256)\n",
    "cdef pop\n",
    "pop = int(np.sqrt(len(source)))\n",
    "\n",
    "for i in range(weights.shape[0]):\n",
    "    con = np.asarray(weights[i])\n",
    "    act = np.nonzero(con)[0]\n",
    "    effc.append(act)\n",
    "effcons = np.asarray(effc)\n",
    "k = 16\n",
    "gain = 1.0\n",
    "Z = np.reshape(source, (pop, pop))\n",
    "\n",
    "\n",
    "@cython.boundscheck(False)\n",
    "@cython.wraparound(False)\n",
    "def propagate3():\n",
    "    cdef int i,j\n",
    "    cdef double[:,:] Z, R, W, EW\n",
    "    cdef double[:] RC, EWC\n",
    "    Z = np.reshape(source, (pop, pop))\n",
    "    R = np.add.reduceat(np.add.reduceat(Z, np.arange(0, Z.shape[0], k), axis=0), np.arange(0, Z.shape[1], k), axis=1)\n",
    "    RC = np.reshape(R, R.size)\n",
    "    for i in range(weights.shape[0]):\n",
    "        W = np.reshape(weights[i], (Z.shape[0],Z.shape[1]))\n",
    "        EW = np.add.reduceat(np.add.reduceat(W, np.arange(0, W.shape[0], k), axis=0), np.arange(0, W.shape[1], k), axis=1)\n",
    "        EWC = np.reshape(EW, EW.size)\n",
    "        EWC = np.array(EWC) / (1.0*k)\n",
    "        for j in range(EWC.size):\n",
    "            target[i] += RC[j] * EWC[j] * gain\n",
    "            \n",
    "@cython.boundscheck(False)\n",
    "@cython.wraparound(False)\n",
    "def propagate4():\n",
    "    cdef int i,j\n",
    "    #cdef double[:,:] Z, R\n",
    "    #cdef double[:] RC\n",
    "    #Z = np.reshape(source, (pop, pop))\n",
    "    #R = np.add.reduceat(np.add.reduceat(Z, np.arange(0, Z.shape[0], k), axis=0), np.arange(0, Z.shape[1], k), axis=1)\n",
    "    #RC = np.reshape(R, R.size)\n",
    "    for i in range(ws.shape[0]):\n",
    "        for j in range(ws.shape[1]):\n",
    "            target[i] += source[j] * ws[i,j] * gain\n",
    "            \n",
    "@cython.boundscheck(False)\n",
    "@cython.wraparound(False)\n",
    "def propagate1():\n",
    "    cdef int i,j\n",
    "    cdef int[:] t\n",
    "    cdef int tsize\n",
    "    tsize = weights.shape[0]\n",
    "    t = range(tsize)\n",
    "    for i in t:\n",
    "        for j in effcons[i]:\n",
    "            target[i] += weights[i,j] * source[j] \n",
    "            \n",
    "@cython.boundscheck(False)\n",
    "@cython.wraparound(False)\n",
    "def propagate2():\n",
    "    cdef int i,j\n",
    "    for i in range(weights.shape[0]):\n",
    "        for j in range(weights.shape[1]):\n",
    "            target[i] += weights[i,j] * source[j]             \n",
    "\n",
    "        \n",
    "\n",
    "\n",
    "\n"
   ]
  },
  {
   "cell_type": "code",
   "execution_count": 36,
   "metadata": {
    "collapsed": false
   },
   "outputs": [
    {
     "name": "stdout",
     "output_type": "stream",
     "text": [
      "100 loops, best of 3: 12.5 ms per loop\n"
     ]
    }
   ],
   "source": [
    "%timeit propagate1()       "
   ]
  },
  {
   "cell_type": "code",
   "execution_count": 37,
   "metadata": {
    "collapsed": false
   },
   "outputs": [
    {
     "name": "stdout",
     "output_type": "stream",
     "text": [
      "10 loops, best of 3: 54.2 ms per loop\n"
     ]
    }
   ],
   "source": [
    "%timeit propagate2()       "
   ]
  },
  {
   "cell_type": "code",
   "execution_count": 5,
   "metadata": {
    "collapsed": false
   },
   "outputs": [
    {
     "name": "stdout",
     "output_type": "stream",
     "text": [
      "10 loops, best of 3: 56.9 ms per loop\n"
     ]
    }
   ],
   "source": [
    "%timeit propagate3()       "
   ]
  },
  {
   "cell_type": "code",
   "execution_count": 10,
   "metadata": {
    "collapsed": false
   },
   "outputs": [
    {
     "name": "stdout",
     "output_type": "stream",
     "text": [
      "100 loops, best of 3: 15.7 ms per loop\n"
     ]
    }
   ],
   "source": [
    "%timeit propagate4()       "
   ]
  },
  {
   "cell_type": "code",
   "execution_count": null,
   "metadata": {
    "collapsed": true
   },
   "outputs": [],
   "source": []
  }
 ],
 "metadata": {
  "kernelspec": {
   "display_name": "Python 2",
   "language": "python",
   "name": "python2"
  },
  "language_info": {
   "codemirror_mode": {
    "name": "ipython",
    "version": 2
   },
   "file_extension": ".py",
   "mimetype": "text/x-python",
   "name": "python",
   "nbconvert_exporter": "python",
   "pygments_lexer": "ipython2",
   "version": "2.7.9"
  }
 },
 "nbformat": 4,
 "nbformat_minor": 0
}
