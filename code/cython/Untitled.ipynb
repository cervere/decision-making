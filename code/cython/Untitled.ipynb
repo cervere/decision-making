{
 "cells": [
  {
   "cell_type": "code",
   "execution_count": 16,
   "metadata": {
    "collapsed": false
   },
   "outputs": [],
   "source": [
    "import numpy as np\n",
    "k = 16\n",
    "gain = 1.0\n",
    "Z = np.random.uniform(0,1,(256,256))\n",
    "T = np.zeros(256)\n",
    "W = np.random.uniform(0,0.5,(16*16,256*256))\n",
    "EWC = np.random.uniform(0,0.5,(16*16,16*16))"
   ]
  },
  {
   "cell_type": "code",
   "execution_count": 17,
   "metadata": {
    "collapsed": false
   },
   "outputs": [],
   "source": [
    "def prop():\n",
    "    R = np.add.reduceat(np.add.reduceat(Z, np.arange(0, Z.shape[0], k), axis=0), np.arange(0, Z.shape[1], k), axis=1)\n",
    "    RC = np.reshape(R, R.size)\n",
    "    for i in range(EWC.shape[0]):\n",
    "        #WR = np.reshape(W[i], (Z.shape[0],Z.shape[1]))\n",
    "        #EW = np.add.reduceat(np.add.reduceat(WR, np.arange(0, WR.shape[0], k), axis=0), np.arange(0, WR.shape[1], k), axis=1)\n",
    "        #EWC = np.reshape(EW, EW.size)\n",
    "        #EWC = np.array(EWC) / (1.0*k)\n",
    "        for j in range(EWC.shape[1]):\n",
    "            T[i] += RC[j] * EWC[i,j] * gain"
   ]
  },
  {
   "cell_type": "code",
   "execution_count": 18,
   "metadata": {
    "collapsed": false
   },
   "outputs": [
    {
     "name": "stdout",
     "output_type": "stream",
     "text": [
      "10 loops, best of 3: 35.6 ms per loop\n"
     ]
    }
   ],
   "source": [
    "%timeit prop()"
   ]
  },
  {
   "cell_type": "code",
   "execution_count": null,
   "metadata": {
    "collapsed": true
   },
   "outputs": [],
   "source": []
  }
 ],
 "metadata": {
  "kernelspec": {
   "display_name": "Python 2",
   "language": "python",
   "name": "python2"
  },
  "language_info": {
   "codemirror_mode": {
    "name": "ipython",
    "version": 2
   },
   "file_extension": ".py",
   "mimetype": "text/x-python",
   "name": "python",
   "nbconvert_exporter": "python",
   "pygments_lexer": "ipython2",
   "version": "2.7.9"
  }
 },
 "nbformat": 4,
 "nbformat_minor": 0
}
